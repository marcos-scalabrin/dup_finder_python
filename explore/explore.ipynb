{
 "metadata": {
  "language_info": {
   "codemirror_mode": {
    "name": "ipython",
    "version": 3
   },
   "file_extension": ".py",
   "mimetype": "text/x-python",
   "name": "python",
   "nbconvert_exporter": "python",
   "pygments_lexer": "ipython3",
   "version": "3.8.6-final"
  },
  "orig_nbformat": 2,
  "kernelspec": {
   "name": "python38664bitdupfinderpipenv68cb8cc0505f4a94b4b5b3e3f1d15ab8",
   "display_name": "Python 3.8.6 64-bit ('dup-finder': pipenv)",
   "language": "python"
  }
 },
 "nbformat": 4,
 "nbformat_minor": 2,
 "cells": [
  {
   "cell_type": "code",
   "execution_count": 1,
   "metadata": {},
   "outputs": [],
   "source": [
    "import sys\n",
    "sys.path.append('.')\n",
    "sys.path.append('../src')\n",
    "\n",
    "import uuid\n",
    "from hashlib import md5\n",
    "from utils import ic\n",
    "# h = md5(b'oi')\n",
    "# ic(h.hexdigest())\n",
    "# # i = uuid.UUID(\"000102030405060708090a0b0c0d0e0f\")\n",
    "# i = uuid.UUID(h.hexdigest())\n",
    "# b = i.bytes\n",
    "# print (uuid.UUID(bytes=b))        connect_str = get_db_str()\n",
    "# print(i)\n",
    "\n",
    "# def hex_2_uuid(hd):\n",
    "#     return UUID(hd)\n",
    "\n"
   ]
  },
  {
   "cell_type": "code",
   "execution_count": 2,
   "metadata": {},
   "outputs": [
    {
     "output_type": "execute_result",
     "data": {
      "text/plain": [
       "3"
      ]
     },
     "metadata": {},
     "execution_count": 2
    }
   ],
   "source": [
    "import first\n",
    "import datetime\n",
    "\n",
    "data = {'file_name': '2021-02-17_18-16-18-Solubio-Richard-PowerApps-offiline.mkv', 'file_path': '/e', 'file_size': 1230, 'file_extension': None, 'uuid_hash': '81e8565c-5c0f-cf1f-784f-c9999acad376', 'ts_run': datetime.datetime(2021, 3, 13, 20, 54, 17, 382106)}\n",
    "\n",
    "first.insert_record(data)"
   ]
  },
  {
   "cell_type": "code",
   "execution_count": 3,
   "metadata": {},
   "outputs": [],
   "source": [
    "import first\n",
    "first.process_dir(first.my_path,first.ts_run)"
   ]
  },
  {
   "cell_type": "code",
   "execution_count": 4,
   "metadata": {},
   "outputs": [
    {
     "output_type": "execute_result",
     "data": {
      "text/plain": [
       "'/home/mscalabrin/recordings/'"
      ]
     },
     "metadata": {},
     "execution_count": 4
    }
   ],
   "source": [
    "first.my_path"
   ]
  },
  {
   "cell_type": "code",
   "execution_count": 33,
   "metadata": {},
   "outputs": [
    {
     "output_type": "stream",
     "name": "stdout",
     "text": [
      "2151\n"
     ]
    }
   ],
   "source": [
    "import os\n",
    "count = 0\n",
    "my_path = '/media/mscalabrin/My Passport/mscala1/Documents'\n",
    "# my_path = '/media/mscalabrin/My Passport/WD 500GB'\n",
    "for root, dirs, files in os.walk(my_path):\n",
    "    count += 1\n",
    "    for name in dirs:\n",
    "    #   print(os.path.join(root, name))\n",
    "        # print(name)\n",
    "        count += 0\n",
    "#    for name in dirs:\n",
    "#       print(os.path.join(root, name))\n",
    "print(count)"
   ]
  },
  {
   "cell_type": "code",
   "execution_count": 24,
   "metadata": {},
   "outputs": [
    {
     "output_type": "execute_result",
     "data": {
      "text/plain": [
       "['( 1 ) O trânsito só muda  - 2011.wmv',\n",
       " '20140401_P&L OCC Bale-At-Source_v01.xlsx',\n",
       " 'bd1.mdb',\n",
       " 'Boast Festas 2014.png',\n",
       " 'Cartões de Natal 2014 Suprimento Aparas.xlsx',\n",
       " 'Control Panel.xlsx',\n",
       " 'Control Panel_Rev_MS_20150101.xlsx',\n",
       " 'Default.rdp',\n",
       " 'desktop.ini',\n",
       " 'dup_pictures.csv',\n",
       " 'KareAnderson_2014S-480p-pt-br.mp4',\n",
       " 'New comparison.dcp']"
      ]
     },
     "metadata": {},
     "execution_count": 24
    }
   ],
   "source": [
    "files"
   ]
  },
  {
   "cell_type": "code",
   "execution_count": 18,
   "metadata": {},
   "outputs": [
    {
     "output_type": "stream",
     "name": "stderr",
     "text": [
      "23:49:32 ic| <ipython-input-18-ac3ebeb01276>:3 in <module>\n",
      "             item.name: '( 1 ) O trânsito só muda  - 2011.wmv'\n",
      "             item.inode(): 367465\n",
      "             item.is_dir(): False\n",
      "             item.is_file(): True\n",
      "23:49:32 ic| <ipython-input-18-ac3ebeb01276>:3 in <module>\n",
      "             item.name: '20140401_P&L OCC Bale-At-Source_v01.xlsx'\n",
      "             item.inode(): 367499\n",
      "             item.is_dir(): False\n",
      "             item.is_file(): True\n",
      "23:49:32 ic| <ipython-input-18-ac3ebeb01276>:3 in <module>\n",
      "             item.name: '@TO BE STORED'\n",
      "             item.inode(): 367506\n",
      "             item.is_dir(): True\n",
      "             item.is_file(): False\n",
      "23:49:32 ic| <ipython-input-18-ac3ebeb01276>:3 in <module>\n",
      "             item.name: 'BACKUPS'\n",
      "             item.inode(): 367516\n",
      "             item.is_dir(): True\n",
      "             item.is_file(): False\n",
      "23:49:32 ic| <ipython-input-18-ac3ebeb01276>:3 in <module>\n",
      "             item.name: 'bd1.mdb'\n",
      "             item.inode(): 367500\n",
      "             item.is_dir(): False\n",
      "             item.is_file(): True\n",
      "23:49:32 ic| <ipython-input-18-ac3ebeb01276>:3 in <module>\n",
      "             item.name: 'Boast Festas 2014.png'\n",
      "             item.inode(): 367501\n",
      "             item.is_dir(): False\n",
      "             item.is_file(): True\n",
      "23:49:32 ic| <ipython-input-18-ac3ebeb01276>:3 in <module>\n",
      "             item.name: 'Canon Utilities'\n",
      "             item.inode(): 379348\n",
      "             item.is_dir(): True\n",
      "             item.is_file(): False\n",
      "23:49:32 ic| <ipython-input-18-ac3ebeb01276>:3 in <module>\n",
      "             item.name: 'Cartões de Natal 2014 Suprimento Aparas.xlsx'\n",
      "             item.inode(): 367502\n",
      "             item.is_dir(): False\n",
      "             item.is_file(): True\n",
      "23:49:32 ic| <ipython-input-18-ac3ebeb01276>:3 in <module>\n",
      "             item.name: 'Control Panel.xlsx'\n",
      "             item.inode(): 367473\n",
      "             item.is_dir(): False\n",
      "             item.is_file(): True\n",
      "23:49:32 ic| <ipython-input-18-ac3ebeb01276>:3 in <module>\n",
      "             item.name: 'Control Panel_Rev_MS_20150101.xlsx'\n",
      "             item.inode(): 367474\n",
      "             item.is_dir(): False\n",
      "             item.is_file(): True\n",
      "23:49:32 ic| <ipython-input-18-ac3ebeb01276>:3 in <module>\n",
      "             item.name: 'Default.rdp'\n",
      "             item.inode(): 367503\n",
      "             item.is_dir(): False\n",
      "             item.is_file(): True\n",
      "23:49:32 ic| <ipython-input-18-ac3ebeb01276>:3 in <module>\n",
      "             item.name: 'desktop.ini'\n",
      "             item.inode(): 395455\n",
      "             item.is_dir(): False\n",
      "             item.is_file(): True\n",
      "23:49:32 ic| <ipython-input-18-ac3ebeb01276>:3 in <module>\n",
      "             item.name: 'dumps'\n",
      "             item.inode(): 379356\n",
      "             item.is_dir(): True\n",
      "             item.is_file(): False\n",
      "23:49:32 ic| <ipython-input-18-ac3ebeb01276>:3 in <module>\n",
      "             item.name: 'dup_pictures.csv'\n",
      "             item.inode(): 367504\n",
      "             item.is_dir(): False\n",
      "             item.is_file(): True\n",
      "23:49:32 ic| <ipython-input-18-ac3ebeb01276>:3 in <module>\n",
      "             item.name: 'KareAnderson_2014S-480p-pt-br.mp4'\n",
      "             item.inode(): 367482\n",
      "             item.is_dir(): False\n",
      "             item.is_file(): True\n",
      "23:49:33 ic| <ipython-input-18-ac3ebeb01276>:3 in <module>\n",
      "             item.name: 'Knowledge & Reference'\n",
      "             item.inode(): 379357\n",
      "             item.is_dir(): True\n",
      "             item.is_file(): False\n",
      "23:49:33 ic| <ipython-input-18-ac3ebeb01276>:3 in <module>\n",
      "             item.name: 'Meus Arquivos Recebidos'\n",
      "             item.inode(): 379408\n",
      "             item.is_dir(): True\n",
      "             item.is_file(): False\n",
      "23:49:33 ic| <ipython-input-18-ac3ebeb01276>:3 in <module>\n",
      "             item.name: 'Minhas fontes de dados'\n",
      "             item.inode(): 379512\n",
      "             item.is_dir(): True\n",
      "             item.is_file(): False\n",
      "23:49:33 ic| <ipython-input-18-ac3ebeb01276>:3 in <module>\n",
      "             item.name: 'My Meetings'\n",
      "             item.inode(): 379517\n",
      "             item.is_dir(): True\n",
      "             item.is_file(): False\n",
      "23:49:33 ic| <ipython-input-18-ac3ebeb01276>:3 in <module>\n",
      "             item.name: 'New comparison.dcp'\n",
      "             item.inode(): 367505\n",
      "             item.is_dir(): False\n",
      "             item.is_file(): True\n",
      "23:49:33 ic| <ipython-input-18-ac3ebeb01276>:3 in <module>\n",
      "             item.name: 'Remote Assistance Logs'\n",
      "             item.inode(): 379518\n",
      "             item.is_dir(): True\n",
      "             item.is_file(): False\n",
      "23:49:33 ic| <ipython-input-18-ac3ebeb01276>:3 in <module>\n",
      "             item.name: 'samsung'\n",
      "             item.inode(): 379520\n",
      "             item.is_dir(): True\n",
      "             item.is_file(): False\n",
      "23:49:33 ic| <ipython-input-18-ac3ebeb01276>:3 in <module>\n",
      "             item.name: 'Samung Note Creator By Marcos'\n",
      "             item.inode(): 379690\n",
      "             item.is_dir(): True\n",
      "             item.is_file(): False\n",
      "23:49:33 ic| <ipython-input-18-ac3ebeb01276>:3 in <module>\n",
      "             item.name: 'Scalabrin Docs'\n",
      "             item.inode(): 379695\n",
      "             item.is_dir(): True\n",
      "             item.is_file(): False\n",
      "23:49:33 ic| <ipython-input-18-ac3ebeb01276>:3 in <module>\n",
      "             item.name: 'SelfMV'\n",
      "             item.inode(): 391715\n",
      "             item.is_dir(): True\n",
      "             item.is_file(): False\n",
      "23:49:33 ic| <ipython-input-18-ac3ebeb01276>:3 in <module>\n",
      "             item.name: 'Shared Toad'\n",
      "             item.inode(): 391717\n",
      "             item.is_dir(): True\n",
      "             item.is_file(): False\n",
      "23:49:33 ic| <ipython-input-18-ac3ebeb01276>:3 in <module>\n",
      "             item.name: 'Sony PMB'\n",
      "             item.inode(): 391718\n",
      "             item.is_dir(): True\n",
      "             item.is_file(): False\n",
      "23:49:33 ic| <ipython-input-18-ac3ebeb01276>:3 in <module>\n",
      "             item.name: 'temp'\n",
      "             item.inode(): 391721\n",
      "             item.is_dir(): True\n",
      "             item.is_file(): False\n",
      "23:49:33 ic| <ipython-input-18-ac3ebeb01276>:3 in <module>\n",
      "             item.name: 'temp_pics_juju'\n",
      "             item.inode(): 391902\n",
      "             item.is_dir(): True\n",
      "             item.is_file(): False\n",
      "23:49:33 ic| <ipython-input-18-ac3ebeb01276>:3 in <module>\n",
      "             item.name: 'TreeSize'\n",
      "             item.inode(): 394154\n",
      "             item.is_dir(): True\n",
      "             item.is_file(): False\n"
     ]
    }
   ],
   "source": [
    "my_path = '/media/mscalabrin/My Passport/mscala1/Documents'\n",
    "for item in os.scandir(my_path):\n",
    "    ic(item.name, item.inode(), item.is_dir(), item.is_file())"
   ]
  },
  {
   "cell_type": "code",
   "execution_count": 12,
   "metadata": {},
   "outputs": [
    {
     "output_type": "stream",
     "name": "stdout",
     "text": [
      "Help on DirEntry object:\n\nclass DirEntry(builtins.object)\n |  Methods defined here:\n |  \n |  __fspath__(self, /)\n |      Returns the path for the entry.\n |  \n |  __repr__(self, /)\n |      Return repr(self).\n |  \n |  inode(self, /)\n |      Return inode of the entry; cached per entry.\n |  \n |  is_dir(self, /, *, follow_symlinks=True)\n |      Return True if the entry is a directory; cached per entry.\n |  \n |  is_file(self, /, *, follow_symlinks=True)\n |      Return True if the entry is a file; cached per entry.\n |  \n |  is_symlink(self, /)\n |      Return True if the entry is a symbolic link; cached per entry.\n |  \n |  stat(self, /, *, follow_symlinks=True)\n |      Return stat_result object for the entry; cached per entry.\n |  \n |  ----------------------------------------------------------------------\n |  Data descriptors defined here:\n |  \n |  name\n |      the entry's base filename, relative to scandir() \"path\" argument\n |  \n |  path\n |      the entry's full path name; equivalent to os.path.join(scandir_path, entry.name)\n\n"
     ]
    }
   ],
   "source": [
    "type(item)\n",
    "help(item)"
   ]
  },
  {
   "cell_type": "code",
   "execution_count": 39,
   "metadata": {},
   "outputs": [
    {
     "output_type": "stream",
     "name": "stdout",
     "text": [
      "7231bdfbcc23ee9f6ebdf9954420da86\n7231bdfbcc23ee9f6ebdf9954420da86\n"
     ]
    }
   ],
   "source": [
    "# testes sobre \n",
    "dir_hash = md5()\n",
    "dir_hash.update(b'oi')\n",
    "dir_hash.update(b'oi1')\n",
    "dir_hash.update(b'oi2')\n",
    "print(dir_hash.hexdigest())\n",
    "\n",
    "dir_hash = md5()\n",
    "dir_hash.update(b'oi')\n",
    "dir_hash.update(b'oi1')\n",
    "dir_hash.update(b'oi2')\n",
    "print(dir_hash.hexdigest())\n"
   ]
  }
 ]
}