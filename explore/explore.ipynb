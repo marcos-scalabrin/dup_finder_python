{
 "metadata": {
  "language_info": {
   "codemirror_mode": {
    "name": "ipython",
    "version": 3
   },
   "file_extension": ".py",
   "mimetype": "text/x-python",
   "name": "python",
   "nbconvert_exporter": "python",
   "pygments_lexer": "ipython3",
   "version": "3.8.6-final"
  },
  "orig_nbformat": 2,
  "kernelspec": {
   "name": "python38664bitdupfinderpipenv68cb8cc0505f4a94b4b5b3e3f1d15ab8",
   "display_name": "Python 3.8.6 64-bit ('dup-finder': pipenv)",
   "language": "python"
  }
 },
 "nbformat": 4,
 "nbformat_minor": 2,
 "cells": [
  {
   "cell_type": "code",
   "execution_count": null,
   "metadata": {},
   "outputs": [],
   "source": [
    "import sys\n",
    "sys.path.append('.')\n",
    "sys.path.append('../src')\n",
    "\n",
    "import uuid\n",
    "from hashlib import md5\n",
    "from utils import ic\n",
    "# h = md5(b'oi')\n",
    "# ic(h.hexdigest())\n",
    "# # i = uuid.UUID(\"000102030405060708090a0b0c0d0e0f\")\n",
    "# i = uuid.UUID(h.hexdigest())\n",
    "# b = i.bytes\n",
    "# print (uuid.UUID(bytes=b))        connect_str = get_db_str()\n",
    "# print(i)\n",
    "\n",
    "# def hex_2_uuid(hd):\n",
    "#     return UUID(hd)\n",
    "\n"
   ]
  },
  {
   "cell_type": "code",
   "execution_count": null,
   "metadata": {},
   "outputs": [],
   "source": [
    "import first\n",
    "import datetime\n",
    "\n",
    "data = {'file_name': '2021-02-17_18-16-18-Solubio-Richard-PowerApps-offiline.mkv', 'file_path': '/e', 'file_size': 1230, 'file_extension': None, 'uuid_hash': '81e8565c-5c0f-cf1f-784f-c9999acad376', 'ts_run': datetime.datetime(2021, 3, 13, 20, 54, 17, 382106)}\n",
    "\n",
    "first.insert_record(data)"
   ]
  },
  {
   "cell_type": "code",
   "execution_count": null,
   "metadata": {},
   "outputs": [],
   "source": [
    "import first\n",
    "first.process_dir(first.my_path,first.ts_run)"
   ]
  },
  {
   "cell_type": "code",
   "execution_count": null,
   "metadata": {},
   "outputs": [],
   "source": [
    "first.my_path"
   ]
  },
  {
   "cell_type": "code",
   "execution_count": null,
   "metadata": {},
   "outputs": [],
   "source": [
    "import os\n",
    "count = 0\n",
    "my_path = '/media/mscalabrin/My Passport/mscala1/Documents'\n",
    "# my_path = '/media/mscalabrin/My Passport/WD 500GB'\n",
    "for root, dirs, files in os.walk(my_path):\n",
    "    count += 1\n",
    "    for name in dirs:\n",
    "    #   print(os.path.join(root, name))\n",
    "        # print(name)\n",
    "        count += 0\n",
    "#    for name in dirs:\n",
    "#       print(os.path.join(root, name))\n",
    "print(count)"
   ]
  },
  {
   "cell_type": "code",
   "execution_count": null,
   "metadata": {},
   "outputs": [],
   "source": [
    "files"
   ]
  },
  {
   "cell_type": "code",
   "execution_count": null,
   "metadata": {},
   "outputs": [],
   "source": [
    "my_path = '/media/mscalabrin/My Passport/mscala1/Documents'\n",
    "for item in os.scandir(my_path):\n",
    "    ic(item.name, item.inode(), item.is_dir(), item.is_file())"
   ]
  },
  {
   "cell_type": "code",
   "execution_count": null,
   "metadata": {},
   "outputs": [],
   "source": [
    "type(item)\n",
    "help(item)"
   ]
  },
  {
   "cell_type": "code",
   "execution_count": null,
   "metadata": {},
   "outputs": [],
   "source": [
    "# testes sobre \n",
    "dir_hash = md5()\n",
    "dir_hash.update(b'oi')\n",
    "dir_hash.update(b'oi1')\n",
    "dir_hash.update(b'oi2')\n",
    "print(dir_hash.hexdigest())\n",
    "\n",
    "dir_hash = md5()\n",
    "dir_hash.update(b'oi')\n",
    "dir_hash.update(b'oi1')\n",
    "dir_hash.update(b'oi2')\n",
    "print(dir_hash.hexdigest())\n"
   ]
  },
  {
   "cell_type": "code",
   "execution_count": null,
   "metadata": {},
   "outputs": [],
   "source": [
    "# teste unitário do check_dir_processed()\n",
    "import first\n",
    "root = '/media/mscalabrin/My Passport/mscala1/Documents/Scalabrin Docs/IP2' \n",
    "first.check_dir_processed(root)"
   ]
  },
  {
   "cell_type": "code",
   "execution_count": 4,
   "metadata": {},
   "outputs": [
    {
     "output_type": "stream",
     "name": "stderr",
     "text": [
      "20:42:14 ic| first.py:103 in update_directory_hash()\n",
      "             cursor.rowcount: 1\n",
      "af879690-5d26-8c64-689a-e720aa8f7c19\n"
     ]
    },
    {
     "output_type": "execute_result",
     "data": {
      "text/plain": [
       "True"
      ]
     },
     "metadata": {},
     "execution_count": 4
    }
   ],
   "source": [
    "import sys\n",
    "sys.path.append('.')\n",
    "sys.path.append('../src')\n",
    "\n",
    "from first import get_directory_uuid_hash, update_directory_hash\n",
    "\n",
    "\n",
    "root = '/media/mscalabrin/My Passport/mscala1/Dropbox'\n",
    "\n",
    "uuid_hash = get_directory_uuid_hash(root)\n",
    "\n",
    "print(uuid_hash)\n",
    "update_directory_hash(root,uuid_hash)"
   ]
  }
 ]
}